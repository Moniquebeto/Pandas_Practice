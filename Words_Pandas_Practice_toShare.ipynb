{
 "cells": [
  {
   "cell_type": "markdown",
   "id": "36f9d8a0-4836-4d51-86c1-b90e819a3745",
   "metadata": {},
   "source": [
    "## DataFrames practice: working with English Words"
   ]
  },
  {
   "cell_type": "code",
   "execution_count": 1,
   "id": "18c98af8-ec1e-4f05-9566-f30db085eb64",
   "metadata": {},
   "outputs": [],
   "source": [
    "import pandas as pd"
   ]
  },
  {
   "cell_type": "code",
   "execution_count": 2,
   "id": "0b088f99-1cf3-4232-a190-8b7c777c6d2d",
   "metadata": {},
   "outputs": [],
   "source": [
    "df = pd.read_csv(r\"C:\\Asus WebStorage\\moniquebedo@hotmail.com\\MySyncFolder\\Learning\\Projects\\WordsPandas\\words.csv\", index_col='Word')"
   ]
  },
  {
   "cell_type": "markdown",
   "id": "85f7f495-2bea-4b41-a325-8a59d33882e9",
   "metadata": {},
   "source": [
    "By putting index_col='Word' the first column in the cvs file becomes the index, otherwise, the df will have 3 columns. You can try by eliminating this line of code and run the df.info() or df.shape, you will see it has"
   ]
  },
  {
   "cell_type": "code",
   "execution_count": 17,
   "id": "00fca234-8abd-4c32-9039-0e8d55bbb2d0",
   "metadata": {},
   "outputs": [
    {
     "data": {
      "text/html": [
       "<div>\n",
       "<style scoped>\n",
       "    .dataframe tbody tr th:only-of-type {\n",
       "        vertical-align: middle;\n",
       "    }\n",
       "\n",
       "    .dataframe tbody tr th {\n",
       "        vertical-align: top;\n",
       "    }\n",
       "\n",
       "    .dataframe thead th {\n",
       "        text-align: right;\n",
       "    }\n",
       "</style>\n",
       "<table border=\"1\" class=\"dataframe\">\n",
       "  <thead>\n",
       "    <tr style=\"text-align: right;\">\n",
       "      <th></th>\n",
       "      <th>Char Count</th>\n",
       "      <th>Value</th>\n",
       "    </tr>\n",
       "    <tr>\n",
       "      <th>Word</th>\n",
       "      <th></th>\n",
       "      <th></th>\n",
       "    </tr>\n",
       "  </thead>\n",
       "  <tbody>\n",
       "    <tr>\n",
       "      <th>a</th>\n",
       "      <td>1</td>\n",
       "      <td>484</td>\n",
       "    </tr>\n",
       "    <tr>\n",
       "      <th>aa</th>\n",
       "      <td>2</td>\n",
       "      <td>469</td>\n",
       "    </tr>\n",
       "    <tr>\n",
       "      <th>aaa</th>\n",
       "      <td>3</td>\n",
       "      <td>52</td>\n",
       "    </tr>\n",
       "    <tr>\n",
       "      <th>aaron</th>\n",
       "      <td>5</td>\n",
       "      <td>127</td>\n",
       "    </tr>\n",
       "    <tr>\n",
       "      <th>ab</th>\n",
       "      <td>2</td>\n",
       "      <td>407</td>\n",
       "    </tr>\n",
       "  </tbody>\n",
       "</table>\n",
       "</div>"
      ],
      "text/plain": [
       "       Char Count  Value\n",
       "Word                    \n",
       "a               1    484\n",
       "aa              2    469\n",
       "aaa             3     52\n",
       "aaron           5    127\n",
       "ab              2    407"
      ]
     },
     "execution_count": 17,
     "metadata": {},
     "output_type": "execute_result"
    }
   ],
   "source": [
    "df.head()"
   ]
  },
  {
   "cell_type": "markdown",
   "id": "21a6559a-4962-4409-a9c4-8bd085d88588",
   "metadata": {},
   "source": [
    "#### How many elements does this dataframe have?"
   ]
  },
  {
   "cell_type": "code",
   "execution_count": 18,
   "id": "dc857e90-2120-4f7a-95ed-360397636838",
   "metadata": {},
   "outputs": [
    {
     "name": "stdout",
     "output_type": "stream",
     "text": [
      "<class 'pandas.core.frame.DataFrame'>\n",
      "Index: 10000 entries, a to zus\n",
      "Data columns (total 2 columns):\n",
      " #   Column      Non-Null Count  Dtype\n",
      "---  ------      --------------  -----\n",
      " 0   Char Count  10000 non-null  int64\n",
      " 1   Value       10000 non-null  int64\n",
      "dtypes: int64(2)\n",
      "memory usage: 234.4+ KB\n"
     ]
    }
   ],
   "source": [
    "df.info()"
   ]
  },
  {
   "cell_type": "code",
   "execution_count": 19,
   "id": "e82bee6a-518f-4399-bc1c-5f6c2f7905c4",
   "metadata": {},
   "outputs": [
    {
     "data": {
      "text/plain": [
       "(10000, 2)"
      ]
     },
     "execution_count": 19,
     "metadata": {},
     "output_type": "execute_result"
    }
   ],
   "source": [
    "df.shape"
   ]
  },
  {
   "cell_type": "markdown",
   "id": "45b4f8a9-b0cb-44d2-b813-bdd607c232b6",
   "metadata": {},
   "source": [
    "#### What is the value of the word **abraham**?"
   ]
  },
  {
   "cell_type": "code",
   "execution_count": 20,
   "id": "4303f49a-4dac-4617-a3dd-c7361e2a8e99",
   "metadata": {},
   "outputs": [
    {
     "data": {
      "text/plain": [
       "Char Count      7\n",
       "Value         485\n",
       "Name: abraham, dtype: int64"
      ]
     },
     "execution_count": 20,
     "metadata": {},
     "output_type": "execute_result"
    }
   ],
   "source": [
    "df.loc['abraham']"
   ]
  },
  {
   "cell_type": "code",
   "execution_count": 21,
   "id": "e5c3bdaf-274d-40b1-ae40-5e161c65d02b",
   "metadata": {},
   "outputs": [
    {
     "data": {
      "text/plain": [
       "485"
      ]
     },
     "execution_count": 21,
     "metadata": {},
     "output_type": "execute_result"
    }
   ],
   "source": [
    "df.loc['abraham', 'Value'] # .loc[Index, columns]"
   ]
  },
  {
   "cell_type": "markdown",
   "id": "6bea8269-ed85-4542-910d-a83e44b220cd",
   "metadata": {},
   "source": [
    "#### What is the highest possible value of a word?"
   ]
  },
  {
   "cell_type": "code",
   "execution_count": 22,
   "id": "f004d815-8251-405d-b3b1-6cca37ee8fce",
   "metadata": {},
   "outputs": [
    {
     "data": {
      "text/plain": [
       "500"
      ]
     },
     "execution_count": 22,
     "metadata": {},
     "output_type": "execute_result"
    }
   ],
   "source": [
    "df['Value'].max()"
   ]
  },
  {
   "cell_type": "code",
   "execution_count": 23,
   "id": "d7b3fee1-1ddf-4857-8964-284e5dd77795",
   "metadata": {},
   "outputs": [
    {
     "data": {
      "text/plain": [
       "Word\n",
       "former             1\n",
       "sterling           1\n",
       "away               1\n",
       "remainder          1\n",
       "toxic              1\n",
       "                ... \n",
       "authorization    500\n",
       "child            500\n",
       "generous         500\n",
       "noble            500\n",
       "generating       500\n",
       "Name: Value, Length: 10000, dtype: int64"
      ]
     },
     "execution_count": 23,
     "metadata": {},
     "output_type": "execute_result"
    }
   ],
   "source": [
    "df['Value'].sort_values()"
   ]
  },
  {
   "cell_type": "code",
   "execution_count": 24,
   "id": "30e6a7d2-a0dc-4e1a-9b22-2fdb219cc2ef",
   "metadata": {},
   "outputs": [
    {
     "data": {
      "text/plain": [
       "Char Count     22\n",
       "Value         500\n",
       "dtype: int64"
      ]
     },
     "execution_count": 24,
     "metadata": {},
     "output_type": "execute_result"
    }
   ],
   "source": [
    "df.max()"
   ]
  },
  {
   "cell_type": "markdown",
   "id": "08611a1e-6fdc-4efa-8aa3-09f65905fb53",
   "metadata": {},
   "source": [
    "#### Which of the following words have a Char Count of 6 and a Value of 481? court, deeply, creativity, specials"
   ]
  },
  {
   "cell_type": "code",
   "execution_count": 29,
   "id": "8d210075-8b79-48ab-acbe-cc05cac7af67",
   "metadata": {},
   "outputs": [
    {
     "data": {
      "text/html": [
       "<div>\n",
       "<style scoped>\n",
       "    .dataframe tbody tr th:only-of-type {\n",
       "        vertical-align: middle;\n",
       "    }\n",
       "\n",
       "    .dataframe tbody tr th {\n",
       "        vertical-align: top;\n",
       "    }\n",
       "\n",
       "    .dataframe thead th {\n",
       "        text-align: right;\n",
       "    }\n",
       "</style>\n",
       "<table border=\"1\" class=\"dataframe\">\n",
       "  <thead>\n",
       "    <tr style=\"text-align: right;\">\n",
       "      <th></th>\n",
       "      <th>Char Count</th>\n",
       "      <th>Value</th>\n",
       "    </tr>\n",
       "    <tr>\n",
       "      <th>Word</th>\n",
       "      <th></th>\n",
       "      <th></th>\n",
       "    </tr>\n",
       "  </thead>\n",
       "  <tbody>\n",
       "    <tr>\n",
       "      <th>court</th>\n",
       "      <td>5</td>\n",
       "      <td>481</td>\n",
       "    </tr>\n",
       "    <tr>\n",
       "      <th>deeply</th>\n",
       "      <td>6</td>\n",
       "      <td>481</td>\n",
       "    </tr>\n",
       "    <tr>\n",
       "      <th>creativity</th>\n",
       "      <td>10</td>\n",
       "      <td>92</td>\n",
       "    </tr>\n",
       "    <tr>\n",
       "      <th>specials</th>\n",
       "      <td>8</td>\n",
       "      <td>128</td>\n",
       "    </tr>\n",
       "  </tbody>\n",
       "</table>\n",
       "</div>"
      ],
      "text/plain": [
       "            Char Count  Value\n",
       "Word                         \n",
       "court                5    481\n",
       "deeply               6    481\n",
       "creativity          10     92\n",
       "specials             8    128"
      ]
     },
     "execution_count": 29,
     "metadata": {},
     "output_type": "execute_result"
    }
   ],
   "source": [
    "#the .loc method cal holds a list (this case strings)\n",
    "df.loc[[\n",
    "    \"court\", \n",
    "    \"deeply\", \n",
    "    \"creativity\", \n",
    "    \"specials\"\n",
    "]]"
   ]
  },
  {
   "cell_type": "code",
   "execution_count": 31,
   "id": "25d8f5bd-1c99-46ef-955e-7e96a12bdd76",
   "metadata": {},
   "outputs": [
    {
     "data": {
      "text/plain": [
       "Word\n",
       "court         481\n",
       "deeply        481\n",
       "creativity     92\n",
       "specials      128\n",
       "Name: Value, dtype: int64"
      ]
     },
     "execution_count": 31,
     "metadata": {},
     "output_type": "execute_result"
    }
   ],
   "source": [
    "df.loc[[\n",
    "    \"court\", \n",
    "    \"deeply\", \n",
    "    \"creativity\", \n",
    "    \"specials\"\n",
    "], \"Value\"]"
   ]
  },
  {
   "cell_type": "markdown",
   "id": "7afcfdbc-fe10-4810-bb07-ca19db5b9b88",
   "metadata": {},
   "source": [
    "#### What is the highest possible length of a word?"
   ]
  },
  {
   "cell_type": "code",
   "execution_count": 32,
   "id": "104c331e-fb07-4b9f-90f7-4d122a04224f",
   "metadata": {},
   "outputs": [
    {
     "data": {
      "text/plain": [
       "22"
      ]
     },
     "execution_count": 32,
     "metadata": {},
     "output_type": "execute_result"
    }
   ],
   "source": [
    "df['Char Count'].max()"
   ]
  },
  {
   "cell_type": "code",
   "execution_count": 33,
   "id": "5e79da4a-6fd0-4f80-badd-2064fdcb13b3",
   "metadata": {},
   "outputs": [
    {
     "data": {
      "text/html": [
       "<div>\n",
       "<style scoped>\n",
       "    .dataframe tbody tr th:only-of-type {\n",
       "        vertical-align: middle;\n",
       "    }\n",
       "\n",
       "    .dataframe tbody tr th {\n",
       "        vertical-align: top;\n",
       "    }\n",
       "\n",
       "    .dataframe thead th {\n",
       "        text-align: right;\n",
       "    }\n",
       "</style>\n",
       "<table border=\"1\" class=\"dataframe\">\n",
       "  <thead>\n",
       "    <tr style=\"text-align: right;\">\n",
       "      <th></th>\n",
       "      <th>Char Count</th>\n",
       "      <th>Value</th>\n",
       "    </tr>\n",
       "  </thead>\n",
       "  <tbody>\n",
       "    <tr>\n",
       "      <th>count</th>\n",
       "      <td>10000.000000</td>\n",
       "      <td>10000.000000</td>\n",
       "    </tr>\n",
       "    <tr>\n",
       "      <th>mean</th>\n",
       "      <td>6.588000</td>\n",
       "      <td>251.616300</td>\n",
       "    </tr>\n",
       "    <tr>\n",
       "      <th>std</th>\n",
       "      <td>2.558029</td>\n",
       "      <td>144.329016</td>\n",
       "    </tr>\n",
       "    <tr>\n",
       "      <th>min</th>\n",
       "      <td>1.000000</td>\n",
       "      <td>1.000000</td>\n",
       "    </tr>\n",
       "    <tr>\n",
       "      <th>25%</th>\n",
       "      <td>5.000000</td>\n",
       "      <td>127.000000</td>\n",
       "    </tr>\n",
       "    <tr>\n",
       "      <th>50%</th>\n",
       "      <td>6.000000</td>\n",
       "      <td>252.000000</td>\n",
       "    </tr>\n",
       "    <tr>\n",
       "      <th>75%</th>\n",
       "      <td>8.000000</td>\n",
       "      <td>378.000000</td>\n",
       "    </tr>\n",
       "    <tr>\n",
       "      <th>max</th>\n",
       "      <td>22.000000</td>\n",
       "      <td>500.000000</td>\n",
       "    </tr>\n",
       "  </tbody>\n",
       "</table>\n",
       "</div>"
      ],
      "text/plain": [
       "         Char Count         Value\n",
       "count  10000.000000  10000.000000\n",
       "mean       6.588000    251.616300\n",
       "std        2.558029    144.329016\n",
       "min        1.000000      1.000000\n",
       "25%        5.000000    127.000000\n",
       "50%        6.000000    252.000000\n",
       "75%        8.000000    378.000000\n",
       "max       22.000000    500.000000"
      ]
     },
     "execution_count": 33,
     "metadata": {},
     "output_type": "execute_result"
    }
   ],
   "source": [
    "df.describe()"
   ]
  },
  {
   "cell_type": "markdown",
   "id": "7f159de5-e6f5-465b-a736-4dc3cef6848c",
   "metadata": {},
   "source": [
    "#### What is the word with the value of 319?"
   ]
  },
  {
   "cell_type": "code",
   "execution_count": 35,
   "id": "6be094d5-41ee-4449-8f38-d30cf2638808",
   "metadata": {},
   "outputs": [
    {
     "data": {
      "text/html": [
       "<div>\n",
       "<style scoped>\n",
       "    .dataframe tbody tr th:only-of-type {\n",
       "        vertical-align: middle;\n",
       "    }\n",
       "\n",
       "    .dataframe tbody tr th {\n",
       "        vertical-align: top;\n",
       "    }\n",
       "\n",
       "    .dataframe thead th {\n",
       "        text-align: right;\n",
       "    }\n",
       "</style>\n",
       "<table border=\"1\" class=\"dataframe\">\n",
       "  <thead>\n",
       "    <tr style=\"text-align: right;\">\n",
       "      <th></th>\n",
       "      <th>Char Count</th>\n",
       "      <th>Value</th>\n",
       "    </tr>\n",
       "    <tr>\n",
       "      <th>Word</th>\n",
       "      <th></th>\n",
       "      <th></th>\n",
       "    </tr>\n",
       "  </thead>\n",
       "  <tbody>\n",
       "    <tr>\n",
       "      <th>achievement</th>\n",
       "      <td>11</td>\n",
       "      <td>319</td>\n",
       "    </tr>\n",
       "    <tr>\n",
       "      <th>bridal</th>\n",
       "      <td>6</td>\n",
       "      <td>319</td>\n",
       "    </tr>\n",
       "    <tr>\n",
       "      <th>bride</th>\n",
       "      <td>5</td>\n",
       "      <td>319</td>\n",
       "    </tr>\n",
       "    <tr>\n",
       "      <th>comply</th>\n",
       "      <td>6</td>\n",
       "      <td>319</td>\n",
       "    </tr>\n",
       "    <tr>\n",
       "      <th>currently</th>\n",
       "      <td>9</td>\n",
       "      <td>319</td>\n",
       "    </tr>\n",
       "    <tr>\n",
       "      <th>dd</th>\n",
       "      <td>2</td>\n",
       "      <td>319</td>\n",
       "    </tr>\n",
       "    <tr>\n",
       "      <th>destroy</th>\n",
       "      <td>7</td>\n",
       "      <td>319</td>\n",
       "    </tr>\n",
       "    <tr>\n",
       "      <th>doctors</th>\n",
       "      <td>7</td>\n",
       "      <td>319</td>\n",
       "    </tr>\n",
       "    <tr>\n",
       "      <th>farming</th>\n",
       "      <td>7</td>\n",
       "      <td>319</td>\n",
       "    </tr>\n",
       "    <tr>\n",
       "      <th>finder</th>\n",
       "      <td>6</td>\n",
       "      <td>319</td>\n",
       "    </tr>\n",
       "    <tr>\n",
       "      <th>gem</th>\n",
       "      <td>3</td>\n",
       "      <td>319</td>\n",
       "    </tr>\n",
       "    <tr>\n",
       "      <th>gratuit</th>\n",
       "      <td>7</td>\n",
       "      <td>319</td>\n",
       "    </tr>\n",
       "    <tr>\n",
       "      <th>hyundai</th>\n",
       "      <td>7</td>\n",
       "      <td>319</td>\n",
       "    </tr>\n",
       "    <tr>\n",
       "      <th>later</th>\n",
       "      <td>5</td>\n",
       "      <td>319</td>\n",
       "    </tr>\n",
       "    <tr>\n",
       "      <th>locked</th>\n",
       "      <td>6</td>\n",
       "      <td>319</td>\n",
       "    </tr>\n",
       "    <tr>\n",
       "      <th>lt</th>\n",
       "      <td>2</td>\n",
       "      <td>319</td>\n",
       "    </tr>\n",
       "    <tr>\n",
       "      <th>rock</th>\n",
       "      <td>4</td>\n",
       "      <td>319</td>\n",
       "    </tr>\n",
       "    <tr>\n",
       "      <th>vendors</th>\n",
       "      <td>7</td>\n",
       "      <td>319</td>\n",
       "    </tr>\n",
       "    <tr>\n",
       "      <th>view</th>\n",
       "      <td>4</td>\n",
       "      <td>319</td>\n",
       "    </tr>\n",
       "    <tr>\n",
       "      <th>whom</th>\n",
       "      <td>4</td>\n",
       "      <td>319</td>\n",
       "    </tr>\n",
       "  </tbody>\n",
       "</table>\n",
       "</div>"
      ],
      "text/plain": [
       "             Char Count  Value\n",
       "Word                          \n",
       "achievement          11    319\n",
       "bridal                6    319\n",
       "bride                 5    319\n",
       "comply                6    319\n",
       "currently             9    319\n",
       "dd                    2    319\n",
       "destroy               7    319\n",
       "doctors               7    319\n",
       "farming               7    319\n",
       "finder                6    319\n",
       "gem                   3    319\n",
       "gratuit               7    319\n",
       "hyundai               7    319\n",
       "later                 5    319\n",
       "locked                6    319\n",
       "lt                    2    319\n",
       "rock                  4    319\n",
       "vendors               7    319\n",
       "view                  4    319\n",
       "whom                  4    319"
      ]
     },
     "execution_count": 35,
     "metadata": {},
     "output_type": "execute_result"
    }
   ],
   "source": [
    "df.loc[df['Value'] == 319]"
   ]
  },
  {
   "cell_type": "code",
   "execution_count": 38,
   "id": "f76a4277-6a5b-470e-ac74-b1e02581ec6b",
   "metadata": {},
   "outputs": [
    {
     "data": {
      "text/html": [
       "<div>\n",
       "<style scoped>\n",
       "    .dataframe tbody tr th:only-of-type {\n",
       "        vertical-align: middle;\n",
       "    }\n",
       "\n",
       "    .dataframe tbody tr th {\n",
       "        vertical-align: top;\n",
       "    }\n",
       "\n",
       "    .dataframe thead th {\n",
       "        text-align: right;\n",
       "    }\n",
       "</style>\n",
       "<table border=\"1\" class=\"dataframe\">\n",
       "  <thead>\n",
       "    <tr style=\"text-align: right;\">\n",
       "      <th></th>\n",
       "      <th>Char Count</th>\n",
       "      <th>Value</th>\n",
       "    </tr>\n",
       "    <tr>\n",
       "      <th>Word</th>\n",
       "      <th></th>\n",
       "      <th></th>\n",
       "    </tr>\n",
       "  </thead>\n",
       "  <tbody>\n",
       "    <tr>\n",
       "      <th>eco</th>\n",
       "      <td>3</td>\n",
       "      <td>500</td>\n",
       "    </tr>\n",
       "    <tr>\n",
       "      <th>distinct</th>\n",
       "      <td>8</td>\n",
       "      <td>500</td>\n",
       "    </tr>\n",
       "    <tr>\n",
       "      <th>generating</th>\n",
       "      <td>10</td>\n",
       "      <td>500</td>\n",
       "    </tr>\n",
       "    <tr>\n",
       "      <th>generous</th>\n",
       "      <td>8</td>\n",
       "      <td>500</td>\n",
       "    </tr>\n",
       "    <tr>\n",
       "      <th>gordon</th>\n",
       "      <td>6</td>\n",
       "      <td>500</td>\n",
       "    </tr>\n",
       "    <tr>\n",
       "      <th>...</th>\n",
       "      <td>...</td>\n",
       "      <td>...</td>\n",
       "    </tr>\n",
       "    <tr>\n",
       "      <th>expressions</th>\n",
       "      <td>11</td>\n",
       "      <td>1</td>\n",
       "    </tr>\n",
       "    <tr>\n",
       "      <th>excluding</th>\n",
       "      <td>9</td>\n",
       "      <td>1</td>\n",
       "    </tr>\n",
       "    <tr>\n",
       "      <th>sterling</th>\n",
       "      <td>8</td>\n",
       "      <td>1</td>\n",
       "    </tr>\n",
       "    <tr>\n",
       "      <th>remainder</th>\n",
       "      <td>9</td>\n",
       "      <td>1</td>\n",
       "    </tr>\n",
       "    <tr>\n",
       "      <th>transit</th>\n",
       "      <td>7</td>\n",
       "      <td>1</td>\n",
       "    </tr>\n",
       "  </tbody>\n",
       "</table>\n",
       "<p>10000 rows × 2 columns</p>\n",
       "</div>"
      ],
      "text/plain": [
       "             Char Count  Value\n",
       "Word                          \n",
       "eco                   3    500\n",
       "distinct              8    500\n",
       "generating           10    500\n",
       "generous              8    500\n",
       "gordon                6    500\n",
       "...                 ...    ...\n",
       "expressions          11      1\n",
       "excluding             9      1\n",
       "sterling              8      1\n",
       "remainder             9      1\n",
       "transit               7      1\n",
       "\n",
       "[10000 rows x 2 columns]"
      ]
     },
     "execution_count": 38,
     "metadata": {},
     "output_type": "execute_result"
    }
   ],
   "source": [
    "df.sort_values(by='Value', ascending=False) #this way we cannot see the  value we are looking for"
   ]
  },
  {
   "cell_type": "markdown",
   "id": "3bc66558-5936-4b88-bfd7-9d943a10e935",
   "metadata": {},
   "source": [
    "#### What is the most common value?"
   ]
  },
  {
   "cell_type": "code",
   "execution_count": 36,
   "id": "1d8ad19a-5a99-447e-b8e8-5486453c6319",
   "metadata": {},
   "outputs": [
    {
     "data": {
      "text/html": [
       "<div>\n",
       "<style scoped>\n",
       "    .dataframe tbody tr th:only-of-type {\n",
       "        vertical-align: middle;\n",
       "    }\n",
       "\n",
       "    .dataframe tbody tr th {\n",
       "        vertical-align: top;\n",
       "    }\n",
       "\n",
       "    .dataframe thead th {\n",
       "        text-align: right;\n",
       "    }\n",
       "</style>\n",
       "<table border=\"1\" class=\"dataframe\">\n",
       "  <thead>\n",
       "    <tr style=\"text-align: right;\">\n",
       "      <th></th>\n",
       "      <th>Char Count</th>\n",
       "      <th>Value</th>\n",
       "    </tr>\n",
       "  </thead>\n",
       "  <tbody>\n",
       "    <tr>\n",
       "      <th>0</th>\n",
       "      <td>6</td>\n",
       "      <td>333</td>\n",
       "    </tr>\n",
       "  </tbody>\n",
       "</table>\n",
       "</div>"
      ],
      "text/plain": [
       "   Char Count  Value\n",
       "0           6    333"
      ]
     },
     "execution_count": 36,
     "metadata": {},
     "output_type": "execute_result"
    }
   ],
   "source": [
    "df.mode()"
   ]
  },
  {
   "cell_type": "code",
   "execution_count": 40,
   "id": "ce72f1d3-0f76-4b90-aadc-b22b12f93e20",
   "metadata": {},
   "outputs": [
    {
     "data": {
      "text/plain": [
       "0    333\n",
       "Name: Value, dtype: int64"
      ]
     },
     "execution_count": 40,
     "metadata": {},
     "output_type": "execute_result"
    }
   ],
   "source": [
    "df['Value'].mode()"
   ]
  },
  {
   "cell_type": "code",
   "execution_count": 43,
   "id": "b4c87d21-3e00-4e0a-8b04-2a70e411297b",
   "metadata": {},
   "outputs": [
    {
     "data": {
      "text/plain": [
       "Value\n",
       "333    36\n",
       "99     33\n",
       "180    33\n",
       "311    32\n",
       "417    31\n",
       "Name: count, dtype: int64"
      ]
     },
     "execution_count": 43,
     "metadata": {},
     "output_type": "execute_result"
    }
   ],
   "source": [
    "df['Value'].value_counts().head()"
   ]
  },
  {
   "cell_type": "markdown",
   "id": "11cd1c33-0f39-4a86-bdb9-997e89caddf8",
   "metadata": {},
   "source": [
    "#### What is the shortest word with value 274?"
   ]
  },
  {
   "cell_type": "code",
   "execution_count": 45,
   "id": "4ffe4468-26d1-4e14-8df4-c21836b140a8",
   "metadata": {},
   "outputs": [
    {
     "data": {
      "text/html": [
       "<div>\n",
       "<style scoped>\n",
       "    .dataframe tbody tr th:only-of-type {\n",
       "        vertical-align: middle;\n",
       "    }\n",
       "\n",
       "    .dataframe tbody tr th {\n",
       "        vertical-align: top;\n",
       "    }\n",
       "\n",
       "    .dataframe thead th {\n",
       "        text-align: right;\n",
       "    }\n",
       "</style>\n",
       "<table border=\"1\" class=\"dataframe\">\n",
       "  <thead>\n",
       "    <tr style=\"text-align: right;\">\n",
       "      <th></th>\n",
       "      <th>Char Count</th>\n",
       "      <th>Value</th>\n",
       "    </tr>\n",
       "    <tr>\n",
       "      <th>Word</th>\n",
       "      <th></th>\n",
       "      <th></th>\n",
       "    </tr>\n",
       "  </thead>\n",
       "  <tbody>\n",
       "    <tr>\n",
       "      <th>law</th>\n",
       "      <td>3</td>\n",
       "      <td>274</td>\n",
       "    </tr>\n",
       "    <tr>\n",
       "      <th>usb</th>\n",
       "      <td>3</td>\n",
       "      <td>274</td>\n",
       "    </tr>\n",
       "    <tr>\n",
       "      <th>ease</th>\n",
       "      <td>4</td>\n",
       "      <td>274</td>\n",
       "    </tr>\n",
       "    <tr>\n",
       "      <th>moon</th>\n",
       "      <td>4</td>\n",
       "      <td>274</td>\n",
       "    </tr>\n",
       "    <tr>\n",
       "      <th>tells</th>\n",
       "      <td>5</td>\n",
       "      <td>274</td>\n",
       "    </tr>\n",
       "    <tr>\n",
       "      <th>volvo</th>\n",
       "      <td>5</td>\n",
       "      <td>274</td>\n",
       "    </tr>\n",
       "    <tr>\n",
       "      <th>united</th>\n",
       "      <td>6</td>\n",
       "      <td>274</td>\n",
       "    </tr>\n",
       "    <tr>\n",
       "      <th>graphic</th>\n",
       "      <td>7</td>\n",
       "      <td>274</td>\n",
       "    </tr>\n",
       "    <tr>\n",
       "      <th>journal</th>\n",
       "      <td>7</td>\n",
       "      <td>274</td>\n",
       "    </tr>\n",
       "    <tr>\n",
       "      <th>election</th>\n",
       "      <td>8</td>\n",
       "      <td>274</td>\n",
       "    </tr>\n",
       "    <tr>\n",
       "      <th>lingerie</th>\n",
       "      <td>8</td>\n",
       "      <td>274</td>\n",
       "    </tr>\n",
       "    <tr>\n",
       "      <th>promptly</th>\n",
       "      <td>8</td>\n",
       "      <td>274</td>\n",
       "    </tr>\n",
       "    <tr>\n",
       "      <th>published</th>\n",
       "      <td>9</td>\n",
       "      <td>274</td>\n",
       "    </tr>\n",
       "    <tr>\n",
       "      <th>prerequisite</th>\n",
       "      <td>12</td>\n",
       "      <td>274</td>\n",
       "    </tr>\n",
       "    <tr>\n",
       "      <th>subscriptions</th>\n",
       "      <td>13</td>\n",
       "      <td>274</td>\n",
       "    </tr>\n",
       "  </tbody>\n",
       "</table>\n",
       "</div>"
      ],
      "text/plain": [
       "               Char Count  Value\n",
       "Word                            \n",
       "law                     3    274\n",
       "usb                     3    274\n",
       "ease                    4    274\n",
       "moon                    4    274\n",
       "tells                   5    274\n",
       "volvo                   5    274\n",
       "united                  6    274\n",
       "graphic                 7    274\n",
       "journal                 7    274\n",
       "election                8    274\n",
       "lingerie                8    274\n",
       "promptly                8    274\n",
       "published               9    274\n",
       "prerequisite           12    274\n",
       "subscriptions          13    274"
      ]
     },
     "execution_count": 45,
     "metadata": {},
     "output_type": "execute_result"
    }
   ],
   "source": [
    "df.loc[df['Value']==274].sort_values(by='Char Count')"
   ]
  },
  {
   "cell_type": "code",
   "execution_count": 49,
   "id": "58a65cc3-efde-49a2-abee-2d2bd1c3d36e",
   "metadata": {},
   "outputs": [
    {
     "data": {
      "text/plain": [
       "3"
      ]
     },
     "execution_count": 49,
     "metadata": {},
     "output_type": "execute_result"
    }
   ],
   "source": [
    "df.loc[df['Value']==274, 'Char Count'].min()"
   ]
  },
  {
   "cell_type": "code",
   "execution_count": 53,
   "id": "550b840a-ba1d-4914-aaa8-69d40017631d",
   "metadata": {},
   "outputs": [
    {
     "data": {
      "text/html": [
       "<div>\n",
       "<style scoped>\n",
       "    .dataframe tbody tr th:only-of-type {\n",
       "        vertical-align: middle;\n",
       "    }\n",
       "\n",
       "    .dataframe tbody tr th {\n",
       "        vertical-align: top;\n",
       "    }\n",
       "\n",
       "    .dataframe thead th {\n",
       "        text-align: right;\n",
       "    }\n",
       "</style>\n",
       "<table border=\"1\" class=\"dataframe\">\n",
       "  <thead>\n",
       "    <tr style=\"text-align: right;\">\n",
       "      <th></th>\n",
       "      <th>Char Count</th>\n",
       "      <th>Value</th>\n",
       "    </tr>\n",
       "    <tr>\n",
       "      <th>Word</th>\n",
       "      <th></th>\n",
       "      <th></th>\n",
       "    </tr>\n",
       "  </thead>\n",
       "  <tbody>\n",
       "    <tr>\n",
       "      <th>bad</th>\n",
       "      <td>3</td>\n",
       "      <td>271</td>\n",
       "    </tr>\n",
       "    <tr>\n",
       "      <th>mpg</th>\n",
       "      <td>3</td>\n",
       "      <td>271</td>\n",
       "    </tr>\n",
       "  </tbody>\n",
       "</table>\n",
       "</div>"
      ],
      "text/plain": [
       "      Char Count  Value\n",
       "Word                   \n",
       "bad            3    271\n",
       "mpg            3    271"
      ]
     },
     "execution_count": 53,
     "metadata": {},
     "output_type": "execute_result"
    }
   ],
   "source": [
    "df.loc[\n",
    "    (df['Value']==271) & \n",
    "    (df['Char Count'] == 3)\n",
    "]\n"
   ]
  },
  {
   "cell_type": "code",
   "execution_count": null,
   "id": "15c2de49-1714-47b7-ac97-043bab92d247",
   "metadata": {},
   "outputs": [],
   "source": [
    "df.loc[\n",
    "    (df['Value']==271) & \n",
    "    (df['Char Count'] == df.loc[df['Value'] ==271, 'Char Count'].min())\n",
    "]"
   ]
  },
  {
   "cell_type": "code",
   "execution_count": 9,
   "id": "b5f2b403-5073-4a61-aef9-af7b0ba082a4",
   "metadata": {},
   "outputs": [
    {
     "data": {
      "text/html": [
       "<div>\n",
       "<style scoped>\n",
       "    .dataframe tbody tr th:only-of-type {\n",
       "        vertical-align: middle;\n",
       "    }\n",
       "\n",
       "    .dataframe tbody tr th {\n",
       "        vertical-align: top;\n",
       "    }\n",
       "\n",
       "    .dataframe thead th {\n",
       "        text-align: right;\n",
       "    }\n",
       "</style>\n",
       "<table border=\"1\" class=\"dataframe\">\n",
       "  <thead>\n",
       "    <tr style=\"text-align: right;\">\n",
       "      <th></th>\n",
       "      <th>Char Count</th>\n",
       "      <th>Value</th>\n",
       "    </tr>\n",
       "    <tr>\n",
       "      <th>Word</th>\n",
       "      <th></th>\n",
       "      <th></th>\n",
       "    </tr>\n",
       "  </thead>\n",
       "  <tbody>\n",
       "    <tr>\n",
       "      <th>bad</th>\n",
       "      <td>3</td>\n",
       "      <td>271</td>\n",
       "    </tr>\n",
       "    <tr>\n",
       "      <th>mpg</th>\n",
       "      <td>3</td>\n",
       "      <td>271</td>\n",
       "    </tr>\n",
       "  </tbody>\n",
       "</table>\n",
       "</div>"
      ],
      "text/plain": [
       "      Char Count  Value\n",
       "Word                   \n",
       "bad            3    271\n",
       "mpg            3    271"
      ]
     },
     "execution_count": 9,
     "metadata": {},
     "output_type": "execute_result"
    }
   ],
   "source": [
    "df.loc[\n",
    "    (df['Value']==271) & \n",
    "    (df['Char Count'] == df.loc[df['Value'] ==274 , 'Char Count'].min())\n",
    "]"
   ]
  },
  {
   "cell_type": "markdown",
   "id": "f0cf8232-ef60-4cf0-9495-11a1a4afc824",
   "metadata": {},
   "source": [
    "#### Create a column Ratio which represents the 'Value Ratio' of a word. "
   ]
  },
  {
   "cell_type": "markdown",
   "id": "b9185eaa-8066-481d-8fee-3a1420696e23",
   "metadata": {},
   "source": [
    "The \"Value Ratio\" of a word is defined as the Value of a word divided by its length. That is: ValueRatio(word) = Value(word) / len(word)"
   ]
  },
  {
   "cell_type": "code",
   "execution_count": 12,
   "id": "07bafbee-b9b1-48b2-8b04-b6f6c6c135ef",
   "metadata": {},
   "outputs": [
    {
     "data": {
      "text/html": [
       "<div>\n",
       "<style scoped>\n",
       "    .dataframe tbody tr th:only-of-type {\n",
       "        vertical-align: middle;\n",
       "    }\n",
       "\n",
       "    .dataframe tbody tr th {\n",
       "        vertical-align: top;\n",
       "    }\n",
       "\n",
       "    .dataframe thead th {\n",
       "        text-align: right;\n",
       "    }\n",
       "</style>\n",
       "<table border=\"1\" class=\"dataframe\">\n",
       "  <thead>\n",
       "    <tr style=\"text-align: right;\">\n",
       "      <th></th>\n",
       "      <th>Char Count</th>\n",
       "      <th>Value</th>\n",
       "      <th>Ratio</th>\n",
       "    </tr>\n",
       "    <tr>\n",
       "      <th>Word</th>\n",
       "      <th></th>\n",
       "      <th></th>\n",
       "      <th></th>\n",
       "    </tr>\n",
       "  </thead>\n",
       "  <tbody>\n",
       "    <tr>\n",
       "      <th>a</th>\n",
       "      <td>1</td>\n",
       "      <td>484</td>\n",
       "      <td>484.000000</td>\n",
       "    </tr>\n",
       "    <tr>\n",
       "      <th>aa</th>\n",
       "      <td>2</td>\n",
       "      <td>469</td>\n",
       "      <td>234.500000</td>\n",
       "    </tr>\n",
       "    <tr>\n",
       "      <th>aaa</th>\n",
       "      <td>3</td>\n",
       "      <td>52</td>\n",
       "      <td>17.333333</td>\n",
       "    </tr>\n",
       "    <tr>\n",
       "      <th>aaron</th>\n",
       "      <td>5</td>\n",
       "      <td>127</td>\n",
       "      <td>25.400000</td>\n",
       "    </tr>\n",
       "    <tr>\n",
       "      <th>ab</th>\n",
       "      <td>2</td>\n",
       "      <td>407</td>\n",
       "      <td>203.500000</td>\n",
       "    </tr>\n",
       "  </tbody>\n",
       "</table>\n",
       "</div>"
      ],
      "text/plain": [
       "       Char Count  Value       Ratio\n",
       "Word                                \n",
       "a               1    484  484.000000\n",
       "aa              2    469  234.500000\n",
       "aaa             3     52   17.333333\n",
       "aaron           5    127   25.400000\n",
       "ab              2    407  203.500000"
      ]
     },
     "execution_count": 12,
     "metadata": {},
     "output_type": "execute_result"
    }
   ],
   "source": [
    "df['Ratio'] = df['Value']/ df['Char Count']\n",
    "df.head()"
   ]
  },
  {
   "cell_type": "markdown",
   "id": "3e672138-2a65-45ae-a991-921d233ba277",
   "metadata": {},
   "source": [
    "#### What is the maximum value of Ratio?"
   ]
  },
  {
   "cell_type": "code",
   "execution_count": 13,
   "id": "b230e1f4-8b83-4c6b-bd3c-9bf9c762de2e",
   "metadata": {},
   "outputs": [
    {
     "data": {
      "text/plain": [
       "484.0"
      ]
     },
     "execution_count": 13,
     "metadata": {},
     "output_type": "execute_result"
    }
   ],
   "source": [
    "df['Ratio'].max()"
   ]
  },
  {
   "cell_type": "markdown",
   "id": "42aa2e3f-efb2-4332-8b3c-6ec299fd884e",
   "metadata": {},
   "source": [
    "#### What word is the one with the highest Ratio?"
   ]
  },
  {
   "cell_type": "code",
   "execution_count": 14,
   "id": "bd2a649e-1a9f-4420-bf01-ae6f5fa599fd",
   "metadata": {},
   "outputs": [
    {
     "data": {
      "text/html": [
       "<div>\n",
       "<style scoped>\n",
       "    .dataframe tbody tr th:only-of-type {\n",
       "        vertical-align: middle;\n",
       "    }\n",
       "\n",
       "    .dataframe tbody tr th {\n",
       "        vertical-align: top;\n",
       "    }\n",
       "\n",
       "    .dataframe thead th {\n",
       "        text-align: right;\n",
       "    }\n",
       "</style>\n",
       "<table border=\"1\" class=\"dataframe\">\n",
       "  <thead>\n",
       "    <tr style=\"text-align: right;\">\n",
       "      <th></th>\n",
       "      <th>Char Count</th>\n",
       "      <th>Value</th>\n",
       "      <th>Ratio</th>\n",
       "    </tr>\n",
       "    <tr>\n",
       "      <th>Word</th>\n",
       "      <th></th>\n",
       "      <th></th>\n",
       "      <th></th>\n",
       "    </tr>\n",
       "  </thead>\n",
       "  <tbody>\n",
       "    <tr>\n",
       "      <th>a</th>\n",
       "      <td>1</td>\n",
       "      <td>484</td>\n",
       "      <td>484.000000</td>\n",
       "    </tr>\n",
       "    <tr>\n",
       "      <th>t</th>\n",
       "      <td>1</td>\n",
       "      <td>462</td>\n",
       "      <td>462.000000</td>\n",
       "    </tr>\n",
       "    <tr>\n",
       "      <th>i</th>\n",
       "      <td>1</td>\n",
       "      <td>460</td>\n",
       "      <td>460.000000</td>\n",
       "    </tr>\n",
       "    <tr>\n",
       "      <th>s</th>\n",
       "      <td>1</td>\n",
       "      <td>457</td>\n",
       "      <td>457.000000</td>\n",
       "    </tr>\n",
       "    <tr>\n",
       "      <th>e</th>\n",
       "      <td>1</td>\n",
       "      <td>446</td>\n",
       "      <td>446.000000</td>\n",
       "    </tr>\n",
       "    <tr>\n",
       "      <th>...</th>\n",
       "      <td>...</td>\n",
       "      <td>...</td>\n",
       "      <td>...</td>\n",
       "    </tr>\n",
       "    <tr>\n",
       "      <th>sterling</th>\n",
       "      <td>8</td>\n",
       "      <td>1</td>\n",
       "      <td>0.125000</td>\n",
       "    </tr>\n",
       "    <tr>\n",
       "      <th>excluding</th>\n",
       "      <td>9</td>\n",
       "      <td>1</td>\n",
       "      <td>0.111111</td>\n",
       "    </tr>\n",
       "    <tr>\n",
       "      <th>remainder</th>\n",
       "      <td>9</td>\n",
       "      <td>1</td>\n",
       "      <td>0.111111</td>\n",
       "    </tr>\n",
       "    <tr>\n",
       "      <th>sufficient</th>\n",
       "      <td>10</td>\n",
       "      <td>1</td>\n",
       "      <td>0.100000</td>\n",
       "    </tr>\n",
       "    <tr>\n",
       "      <th>expressions</th>\n",
       "      <td>11</td>\n",
       "      <td>1</td>\n",
       "      <td>0.090909</td>\n",
       "    </tr>\n",
       "  </tbody>\n",
       "</table>\n",
       "<p>10000 rows × 3 columns</p>\n",
       "</div>"
      ],
      "text/plain": [
       "             Char Count  Value       Ratio\n",
       "Word                                      \n",
       "a                     1    484  484.000000\n",
       "t                     1    462  462.000000\n",
       "i                     1    460  460.000000\n",
       "s                     1    457  457.000000\n",
       "e                     1    446  446.000000\n",
       "...                 ...    ...         ...\n",
       "sterling              8      1    0.125000\n",
       "excluding             9      1    0.111111\n",
       "remainder             9      1    0.111111\n",
       "sufficient           10      1    0.100000\n",
       "expressions          11      1    0.090909\n",
       "\n",
       "[10000 rows x 3 columns]"
      ]
     },
     "execution_count": 14,
     "metadata": {},
     "output_type": "execute_result"
    }
   ],
   "source": [
    "df.sort_values(by='Ratio', ascending=False)"
   ]
  },
  {
   "cell_type": "code",
   "execution_count": 16,
   "id": "52b797f6-d15a-49ed-b802-7dbaf223d5ab",
   "metadata": {},
   "outputs": [
    {
     "data": {
      "text/html": [
       "<div>\n",
       "<style scoped>\n",
       "    .dataframe tbody tr th:only-of-type {\n",
       "        vertical-align: middle;\n",
       "    }\n",
       "\n",
       "    .dataframe tbody tr th {\n",
       "        vertical-align: top;\n",
       "    }\n",
       "\n",
       "    .dataframe thead th {\n",
       "        text-align: right;\n",
       "    }\n",
       "</style>\n",
       "<table border=\"1\" class=\"dataframe\">\n",
       "  <thead>\n",
       "    <tr style=\"text-align: right;\">\n",
       "      <th></th>\n",
       "      <th>Char Count</th>\n",
       "      <th>Value</th>\n",
       "      <th>Ratio</th>\n",
       "    </tr>\n",
       "    <tr>\n",
       "      <th>Word</th>\n",
       "      <th></th>\n",
       "      <th></th>\n",
       "      <th></th>\n",
       "    </tr>\n",
       "  </thead>\n",
       "  <tbody>\n",
       "    <tr>\n",
       "      <th>a</th>\n",
       "      <td>1</td>\n",
       "      <td>484</td>\n",
       "      <td>484.0</td>\n",
       "    </tr>\n",
       "  </tbody>\n",
       "</table>\n",
       "</div>"
      ],
      "text/plain": [
       "      Char Count  Value  Ratio\n",
       "Word                          \n",
       "a              1    484  484.0"
      ]
     },
     "execution_count": 16,
     "metadata": {},
     "output_type": "execute_result"
    }
   ],
   "source": [
    "df.loc[df['Ratio'] == df['Ratio'].max()]"
   ]
  },
  {
   "cell_type": "markdown",
   "id": "5358904e-779f-4537-8383-28396b997d18",
   "metadata": {},
   "source": [
    "#### How many words have a Ratio of 484?"
   ]
  },
  {
   "cell_type": "code",
   "execution_count": 19,
   "id": "b60c4010-572b-439b-84c0-003ab2477b72",
   "metadata": {},
   "outputs": [
    {
     "data": {
      "text/plain": [
       "Ratio\n",
       "4.000000      28\n",
       "54.000000     27\n",
       "22.000000     27\n",
       "49.000000     27\n",
       "23.000000     26\n",
       "              ..\n",
       "127.666667     1\n",
       "200.500000     1\n",
       "51.166667      1\n",
       "22.111111      1\n",
       "224.500000     1\n",
       "Name: count, Length: 2941, dtype: int64"
      ]
     },
     "execution_count": 19,
     "metadata": {},
     "output_type": "execute_result"
    }
   ],
   "source": [
    "df['Ratio'].value_counts()"
   ]
  },
  {
   "cell_type": "code",
   "execution_count": 20,
   "id": "7783ebd6-6d2d-4ed2-8402-839b12fa3bb6",
   "metadata": {},
   "outputs": [
    {
     "data": {
      "text/plain": [
       "(1, 3)"
      ]
     },
     "execution_count": 20,
     "metadata": {},
     "output_type": "execute_result"
    }
   ],
   "source": [
    "df.loc[df['Ratio']==484].shape"
   ]
  },
  {
   "cell_type": "code",
   "execution_count": 22,
   "id": "8ab41a32-6be9-4f7f-9eb0-0e85ba127c26",
   "metadata": {},
   "outputs": [
    {
     "data": {
      "text/plain": [
       "(1, 3)"
      ]
     },
     "execution_count": 22,
     "metadata": {},
     "output_type": "execute_result"
    }
   ],
   "source": [
    "df.query('Ratio == 484').shape"
   ]
  },
  {
   "cell_type": "markdown",
   "id": "6e886be1-1d4e-4e73-a7f5-24efbf9c3c38",
   "metadata": {},
   "source": [
    "#### What is the maximum Value of all the words with a Ratio of 484?"
   ]
  },
  {
   "cell_type": "code",
   "execution_count": 23,
   "id": "6cc3b7af-b2a1-436b-9a48-795e2759289b",
   "metadata": {},
   "outputs": [
    {
     "data": {
      "text/html": [
       "<div>\n",
       "<style scoped>\n",
       "    .dataframe tbody tr th:only-of-type {\n",
       "        vertical-align: middle;\n",
       "    }\n",
       "\n",
       "    .dataframe tbody tr th {\n",
       "        vertical-align: top;\n",
       "    }\n",
       "\n",
       "    .dataframe thead th {\n",
       "        text-align: right;\n",
       "    }\n",
       "</style>\n",
       "<table border=\"1\" class=\"dataframe\">\n",
       "  <thead>\n",
       "    <tr style=\"text-align: right;\">\n",
       "      <th></th>\n",
       "      <th>Char Count</th>\n",
       "      <th>Value</th>\n",
       "      <th>Ratio</th>\n",
       "    </tr>\n",
       "    <tr>\n",
       "      <th>Word</th>\n",
       "      <th></th>\n",
       "      <th></th>\n",
       "      <th></th>\n",
       "    </tr>\n",
       "  </thead>\n",
       "  <tbody>\n",
       "    <tr>\n",
       "      <th>a</th>\n",
       "      <td>1</td>\n",
       "      <td>484</td>\n",
       "      <td>484.0</td>\n",
       "    </tr>\n",
       "  </tbody>\n",
       "</table>\n",
       "</div>"
      ],
      "text/plain": [
       "      Char Count  Value  Ratio\n",
       "Word                          \n",
       "a              1    484  484.0"
      ]
     },
     "execution_count": 23,
     "metadata": {},
     "output_type": "execute_result"
    }
   ],
   "source": [
    "df.query('Ratio ==484').sort_values(by='Value', ascending=False).head()"
   ]
  },
  {
   "cell_type": "code",
   "execution_count": 25,
   "id": "b493af9c-f548-43c3-99e2-00384c47b6a3",
   "metadata": {},
   "outputs": [
    {
     "data": {
      "text/plain": [
       "484"
      ]
     },
     "execution_count": 25,
     "metadata": {},
     "output_type": "execute_result"
    }
   ],
   "source": [
    "df.loc[df['Ratio'] ==484, 'Value'].max()"
   ]
  },
  {
   "cell_type": "markdown",
   "id": "d77a856c-7fc5-408a-be29-78d6b793503f",
   "metadata": {},
   "source": [
    "#### Of those words with a Value of 260, what is the lowest Char Count found?"
   ]
  },
  {
   "cell_type": "code",
   "execution_count": 27,
   "id": "76863447-176d-4f6c-9289-3f3d8ee61314",
   "metadata": {},
   "outputs": [
    {
     "data": {
      "text/plain": [
       "2"
      ]
     },
     "execution_count": 27,
     "metadata": {},
     "output_type": "execute_result"
    }
   ],
   "source": [
    "df.loc[df['Value'] ==260, 'Char Count'].min()"
   ]
  },
  {
   "cell_type": "markdown",
   "id": "6a28a217-4dd6-436a-b84e-d4751e04be08",
   "metadata": {},
   "source": [
    "#### Based on the previous task, what word is it?"
   ]
  },
  {
   "cell_type": "code",
   "execution_count": 31,
   "id": "2c4108e4-d154-4ecc-a97f-554697697038",
   "metadata": {},
   "outputs": [
    {
     "data": {
      "text/html": [
       "<div>\n",
       "<style scoped>\n",
       "    .dataframe tbody tr th:only-of-type {\n",
       "        vertical-align: middle;\n",
       "    }\n",
       "\n",
       "    .dataframe tbody tr th {\n",
       "        vertical-align: top;\n",
       "    }\n",
       "\n",
       "    .dataframe thead th {\n",
       "        text-align: right;\n",
       "    }\n",
       "</style>\n",
       "<table border=\"1\" class=\"dataframe\">\n",
       "  <thead>\n",
       "    <tr style=\"text-align: right;\">\n",
       "      <th></th>\n",
       "      <th>Char Count</th>\n",
       "      <th>Value</th>\n",
       "      <th>Ratio</th>\n",
       "    </tr>\n",
       "    <tr>\n",
       "      <th>Word</th>\n",
       "      <th></th>\n",
       "      <th></th>\n",
       "      <th></th>\n",
       "    </tr>\n",
       "  </thead>\n",
       "  <tbody>\n",
       "    <tr>\n",
       "      <th>lo</th>\n",
       "      <td>2</td>\n",
       "      <td>260</td>\n",
       "      <td>130.000000</td>\n",
       "    </tr>\n",
       "    <tr>\n",
       "      <th>lc</th>\n",
       "      <td>2</td>\n",
       "      <td>260</td>\n",
       "      <td>130.000000</td>\n",
       "    </tr>\n",
       "    <tr>\n",
       "      <th>je</th>\n",
       "      <td>2</td>\n",
       "      <td>260</td>\n",
       "      <td>130.000000</td>\n",
       "    </tr>\n",
       "    <tr>\n",
       "      <th>ie</th>\n",
       "      <td>2</td>\n",
       "      <td>260</td>\n",
       "      <td>130.000000</td>\n",
       "    </tr>\n",
       "    <tr>\n",
       "      <th>pmc</th>\n",
       "      <td>3</td>\n",
       "      <td>260</td>\n",
       "      <td>86.666667</td>\n",
       "    </tr>\n",
       "  </tbody>\n",
       "</table>\n",
       "</div>"
      ],
      "text/plain": [
       "      Char Count  Value       Ratio\n",
       "Word                               \n",
       "lo             2    260  130.000000\n",
       "lc             2    260  130.000000\n",
       "je             2    260  130.000000\n",
       "ie             2    260  130.000000\n",
       "pmc            3    260   86.666667"
      ]
     },
     "execution_count": 31,
     "metadata": {},
     "output_type": "execute_result"
    }
   ],
   "source": [
    "df.loc[df['Value'] ==260].sort_values(by='Char Count').head() #words with value = 260 and char Count = 2"
   ]
  }
 ],
 "metadata": {
  "kernelspec": {
   "display_name": "Python 3.6 Deep Learning With Python",
   "language": "python",
   "name": "dlwp"
  },
  "language_info": {
   "codemirror_mode": {
    "name": "ipython",
    "version": 3
   },
   "file_extension": ".py",
   "mimetype": "text/x-python",
   "name": "python",
   "nbconvert_exporter": "python",
   "pygments_lexer": "ipython3",
   "version": "3.11.5"
  }
 },
 "nbformat": 4,
 "nbformat_minor": 5
}
